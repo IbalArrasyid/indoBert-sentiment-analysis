{
  "cells": [
    {
      "cell_type": "markdown",
      "metadata": {
        "id": "view-in-github",
        "colab_type": "text"
      },
      "source": [
        "<a href=\"https://colab.research.google.com/github/IbalArrasyid/indoBert-sentiment-analysis/blob/main/Setimen_Analisis_Tokopedia_Review_v1_Spark.ipynb\" target=\"_parent\"><img src=\"https://colab.research.google.com/assets/colab-badge.svg\" alt=\"Open In Colab\"/></a>"
      ]
    },
    {
      "cell_type": "markdown",
      "source": [
        "# Tugas Big Data"
      ],
      "metadata": {
        "id": "zKeox70UGEik"
      }
    },
    {
      "cell_type": "markdown",
      "source": [
        "Nama : M. Iqbal Arrasyid <br>\n",
        "NIM : 1304221038"
      ],
      "metadata": {
        "id": "ZPvQdKWAGJ69"
      }
    },
    {
      "cell_type": "markdown",
      "metadata": {
        "id": "29924878"
      },
      "source": [
        "# Sentiment Analysis Tokopedia Reviews using Apache Spark"
      ]
    },
    {
      "cell_type": "markdown",
      "metadata": {
        "id": "9a14f5bf"
      },
      "source": [
        "## Setup & Imports"
      ]
    },
    {
      "cell_type": "code",
      "execution_count": 68,
      "metadata": {
        "id": "83476059"
      },
      "outputs": [],
      "source": [
        "# import library pyspark\n",
        "from pyspark.sql import SparkSession\n",
        "from pyspark.sql.functions import col, udf\n",
        "from pyspark.sql.types import StringType\n",
        "import re"
      ]
    },
    {
      "cell_type": "code",
      "source": [
        "# inisialisasi sesi spark\n",
        "spark = SparkSession.builder \\\n",
        "    .appName(\"TokopediaSentimentAnalysis\") \\\n",
        "    .config(\"spark.driver.memory\", \"4g\") \\\n",
        "    .getOrCreate()"
      ],
      "metadata": {
        "id": "jX6SbsqxB_en"
      },
      "execution_count": 69,
      "outputs": []
    },
    {
      "cell_type": "markdown",
      "metadata": {
        "id": "229e2d21"
      },
      "source": [
        "## Load Data"
      ]
    },
    {
      "cell_type": "code",
      "execution_count": 70,
      "metadata": {
        "colab": {
          "base_uri": "https://localhost:8080/"
        },
        "id": "6c1e8629",
        "outputId": "6c228e23-a94e-43b3-b4a7-d338efe9739d"
      },
      "outputs": [
        {
          "output_type": "stream",
          "name": "stdout",
          "text": [
            "+---+--------------------+------+-----------+--------------------+----------+----+-------+--------------------+\n",
            "|_c0|                text|rating|   category|        product_name|product_id|sold|shop_id|         product_url|\n",
            "+---+--------------------+------+-----------+--------------------+----------+----+-------+--------------------+\n",
            "|  1|Barang sesuai pes...|     5|pertukangan|Staples Dekorasi ...| 418660637|   1|1740837|https://www.tokop...|\n",
            "|  2|Barang bagus harg...|     5|pertukangan|STAPLE GUN ATS 3 ...| 416032545|  11|1477109|https://www.tokop...|\n",
            "|  3|Paket rapi...mant...|     5|pertukangan|STAPLE GUN ATS 3 ...| 416032545|  11|1477109|https://www.tokop...|\n",
            "|  4|ya saya puas dgn ...|     5|pertukangan|ALAT STAPLES TEMB...| 102279869|   5| 771395|https://www.tokop...|\n",
            "|  5|Responya luar bia...|     5|pertukangan|Isi Refill Staple...| 190679689| 787| 969999|https://www.tokop...|\n",
            "+---+--------------------+------+-----------+--------------------+----------+----+-------+--------------------+\n",
            "only showing top 5 rows\n",
            "\n"
          ]
        }
      ],
      "source": [
        "# import dataset\n",
        "df = spark.read.option(\"header\", \"true\").csv(\"product_reviews_dirty.csv\")\n",
        "df.show(5)\n"
      ]
    },
    {
      "cell_type": "code",
      "source": [
        "df.count()"
      ],
      "metadata": {
        "colab": {
          "base_uri": "https://localhost:8080/"
        },
        "id": "8x8lS1DFht98",
        "outputId": "597c9c62-7d84-4e24-decc-1dcab403a4e2"
      },
      "execution_count": 71,
      "outputs": [
        {
          "output_type": "execute_result",
          "data": {
            "text/plain": [
              "43935"
            ]
          },
          "metadata": {},
          "execution_count": 71
        }
      ]
    },
    {
      "cell_type": "markdown",
      "source": [
        "Disini terdapat 43.935 baris pada dataset"
      ],
      "metadata": {
        "id": "rWAIQwX_CHH4"
      }
    },
    {
      "cell_type": "markdown",
      "metadata": {
        "id": "dd3a5af1"
      },
      "source": [
        "## Preprocessing"
      ]
    },
    {
      "cell_type": "code",
      "execution_count": 72,
      "metadata": {
        "colab": {
          "base_uri": "https://localhost:8080/"
        },
        "id": "ad003e78",
        "outputId": "e1e50324-f587-43b0-a9f4-9d468c63243c"
      },
      "outputs": [
        {
          "output_type": "stream",
          "name": "stdout",
          "text": [
            "+--------------------+--------------------+\n",
            "|                text|        cleaned_text|\n",
            "+--------------------+--------------------+\n",
            "|Barang sesuai pes...|barang sesuai pes...|\n",
            "|Barang bagus harg...|barang bagus harg...|\n",
            "|Paket rapi...mant...|paket rapimantapc...|\n",
            "|ya saya puas dgn ...|ya saya puas dgn ...|\n",
            "|Responya luar bia...|responya luar bia...|\n",
            "+--------------------+--------------------+\n",
            "only showing top 5 rows\n",
            "\n"
          ]
        }
      ],
      "source": [
        "# membersihkan text\n",
        "def clean_text(text):\n",
        "    if text:\n",
        "        text = text.lower()\n",
        "        text = re.sub(r\"[^a-zA-Z0-9\\s]\", \"\", text)\n",
        "        text = re.sub(r\"\\s+\", \" \", text).strip()\n",
        "        return text\n",
        "    return \"\"\n",
        "\n",
        "clean_udf = udf(clean_text, StringType())\n",
        "df_cleaned = df.withColumn(\"cleaned_text\", clean_udf(col(\"text\")))\n",
        "df_cleaned.select(\"text\", \"cleaned_text\").show(5)\n"
      ]
    },
    {
      "cell_type": "markdown",
      "source": [
        "Disini kita sudah berhasil membersihkan data dari simbol, angka, dan spasi berlebih. Lalu kita juga sudah mernormalisasikan data ke huruf kecil semua agar seragam."
      ],
      "metadata": {
        "id": "JYDvp2T5MMkk"
      }
    },
    {
      "cell_type": "markdown",
      "metadata": {
        "id": "995b3d2a"
      },
      "source": [
        "## Sentiment Analysis"
      ]
    },
    {
      "cell_type": "code",
      "execution_count": 73,
      "metadata": {
        "colab": {
          "base_uri": "https://localhost:8080/"
        },
        "id": "4b1ab279",
        "outputId": "430ff112-afd1-46a2-ebd1-0b68adc57158"
      },
      "outputs": [
        {
          "output_type": "stream",
          "name": "stdout",
          "text": [
            "+---+--------------------+------+-----------+--------------------+----------+----+-------+--------------------+--------------------+---------+\n",
            "|_c0|                text|rating|   category|        product_name|product_id|sold|shop_id|         product_url|        cleaned_text|sentiment|\n",
            "+---+--------------------+------+-----------+--------------------+----------+----+-------+--------------------+--------------------+---------+\n",
            "|  1|Barang sesuai pes...|     5|pertukangan|Staples Dekorasi ...| 418660637|   1|1740837|https://www.tokop...|barang sesuai pes...| positive|\n",
            "|  2|Barang bagus harg...|     5|pertukangan|STAPLE GUN ATS 3 ...| 416032545|  11|1477109|https://www.tokop...|barang bagus harg...| positive|\n",
            "|  3|Paket rapi...mant...|     5|pertukangan|STAPLE GUN ATS 3 ...| 416032545|  11|1477109|https://www.tokop...|paket rapimantapc...| positive|\n",
            "|  4|ya saya puas dgn ...|     5|pertukangan|ALAT STAPLES TEMB...| 102279869|   5| 771395|https://www.tokop...|ya saya puas dgn ...| positive|\n",
            "|  5|Responya luar bia...|     5|pertukangan|Isi Refill Staple...| 190679689| 787| 969999|https://www.tokop...|responya luar bia...| positive|\n",
            "+---+--------------------+------+-----------+--------------------+----------+----+-------+--------------------+--------------------+---------+\n",
            "only showing top 5 rows\n",
            "\n"
          ]
        }
      ],
      "source": [
        "from transformers import pipeline\n",
        "import pandas as pd\n",
        "from pyspark.sql.functions import pandas_udf, col\n",
        "from pyspark.sql.types import StringType\n",
        "\n",
        "# fungsi sentimen\n",
        "def get_sentiment_indobert(texts: pd.Series) -> pd.Series:\n",
        "    # load indobert\n",
        "    classifier = pipeline(\"sentiment-analysis\", model=\"w11wo/indonesian-roberta-base-sentiment-classifier\")\n",
        "\n",
        "    def _analyze_single_text(text):\n",
        "        if text:\n",
        "            try:\n",
        "                # Batasi ke 512 token (as before)\n",
        "                result = classifier(text[:512])[0]\n",
        "                return result['label'].lower()\n",
        "            except:\n",
        "                # handle potensial error saat proses sentimen\n",
        "                return \"neutral\"\n",
        "        # handle none atau teks kosong\n",
        "        return \"neutral\"\n",
        "\n",
        "    return texts.apply(_analyze_single_text)\n",
        "\n",
        "\n",
        "# mendefinisikan pandas untuk spark\n",
        "@pandas_udf(StringType())\n",
        "def sentiment_udf_udf(texts: pd.Series) -> pd.Series:\n",
        "    # Call the analysis function defined above\n",
        "    return get_sentiment_indobert(texts)\n",
        "\n",
        "\n",
        "# memakai udf untuk proses pembersihan teks\n",
        "\n",
        "df_final = df_cleaned.withColumn(\"sentiment\", sentiment_udf_udf(col(\"cleaned_text\")))\n",
        "df_final.show(5)"
      ]
    },
    {
      "cell_type": "markdown",
      "source": [
        "Disini kita sudah berhasil mendapatkan sentimen dari masing masing text review."
      ],
      "metadata": {
        "id": "KIeTr-0hh2J4"
      }
    },
    {
      "cell_type": "code",
      "source": [
        "# menghitung jumlah masing-masing label sentimen\n",
        "df_final.groupBy(\"sentiment\").count().show()"
      ],
      "metadata": {
        "id": "LBUlpJKLYx8g"
      },
      "execution_count": null,
      "outputs": []
    },
    {
      "cell_type": "markdown",
      "metadata": {
        "id": "876cb475"
      },
      "source": [
        "## Visualization"
      ]
    },
    {
      "cell_type": "code",
      "source": [
        "# menggabungkan semua teks untuk WordCloud\n",
        "all_text = ' '.join([t[\"text\"] for t in df_final.select(\"text\").filter(col(\"text\").isNotNull()).collect()])"
      ],
      "metadata": {
        "id": "ZYpOkvc2NiMd"
      },
      "execution_count": null,
      "outputs": []
    },
    {
      "cell_type": "code",
      "source": [
        "from wordcloud import WordCloud\n",
        "import matplotlib.pyplot as plt\n",
        "\n",
        "# membuat WordCloud\n",
        "wordcloud = WordCloud(width=800, height=400, background_color='white').generate(all_text)"
      ],
      "metadata": {
        "id": "dM5FFIQLNet5"
      },
      "execution_count": null,
      "outputs": []
    },
    {
      "cell_type": "code",
      "source": [
        "# menampilkan WordCloud\n",
        "plt.figure(figsize=(12,6))\n",
        "plt.imshow(wordcloud, interpolation='bilinear')\n",
        "plt.axis(\"off\")\n",
        "plt.title(\"WordCloud - Tokopedia Review Produk\")\n",
        "plt.show()"
      ],
      "metadata": {
        "id": "cV5pyX9QNbel"
      },
      "execution_count": null,
      "outputs": []
    },
    {
      "cell_type": "markdown",
      "source": [
        "Diatas adalah wordcloud dari keseluruhan sentimen (positif, negatif maupun netral). Wordcloud ini menggambarkan kata yang sering muncul dalam ulasan produk."
      ],
      "metadata": {
        "id": "yEijIuqh_-CA"
      }
    },
    {
      "cell_type": "code",
      "execution_count": null,
      "metadata": {
        "id": "dc079ebb"
      },
      "outputs": [],
      "source": [
        "import matplotlib.pyplot as plt\n",
        "\n",
        "# menghitung jumlah masing-masing label sentimen dan konversi ke Pandas DataFrame\n",
        "sentiment_counts = df_final.groupBy(\"sentiment\").count().toPandas()\n",
        "\n",
        "# pie chart\n",
        "plt.figure(figsize=(6, 6))\n",
        "plt.pie(sentiment_counts['count'],\n",
        "        labels=sentiment_counts['sentiment'],\n",
        "        autopct='%1.1f%%',\n",
        "        startangle=140,\n",
        "        colors=['#66b3ff','#99ff99','#ff9999'])  # pengaturan warna\n",
        "\n",
        "plt.title('Distribusi Sentimen Ulasan Tokopedia')\n",
        "plt.axis('equal')  # biar lingkarannya bulat\n",
        "plt.show()\n"
      ]
    },
    {
      "cell_type": "markdown",
      "source": [
        "## Conclusion"
      ],
      "metadata": {
        "id": "MM3z1QABiH7E"
      }
    },
    {
      "cell_type": "markdown",
      "source": [
        "Proyek ini menunjukkan bahwa model IndoBERT dapat digunakan secara efektif untuk analisis sentimen terhadap ulasan produk di Tokopedia. Dengan akurasi dan pemahaman konteks bahasa Indonesia yang tinggi, model ini mampu memberikan wawasan berharga mengenai pengalaman dan kepuasan pengguna.\n",
        "\n",
        "Ke depannya, model ini dapat diintegrasikan ke dalam sistem monitoring produk atau dashboard analitik untuk membantu penjual dan platform dalam mengelola kualitas layanan."
      ],
      "metadata": {
        "id": "9-Iko4yAiLn3"
      }
    }
  ],
  "metadata": {
    "colab": {
      "provenance": [],
      "include_colab_link": true
    },
    "kernelspec": {
      "display_name": "Python 3",
      "name": "python3"
    },
    "language_info": {
      "name": "python"
    }
  },
  "nbformat": 4,
  "nbformat_minor": 0
}